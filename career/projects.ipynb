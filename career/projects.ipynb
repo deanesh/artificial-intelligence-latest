{
 "cells": [
  {
   "cell_type": "markdown",
   "id": "3f9d3de0",
   "metadata": {},
   "source": [
    "### 📊 **Data Science & ML Projects**\n",
    "\n",
    "**1. Customer Churn Prediction (Python, scikit-learn, XGBoost)**\n",
    "\n",
    "* Built classification models to predict customer churn using logistic regression and XGBoost.\n",
    "* Achieved 82% accuracy with cross-validation and feature selection techniques.\n",
    "* Created detailed EDA dashboards and model evaluation reports.\n",
    "\n",
    "**2. NLP-Based Support Ticket Classification (TensorFlow, NLTK)**\n",
    "\n",
    "* Preprocessed customer support ticket data and built an LSTM-based neural network.\n",
    "* Implemented text vectorization using TF-IDF and Word2Vec; achieved 87% F1 score.\n",
    "* Integrated the model with a basic Flask API for demonstration.\n",
    "\n",
    "**3. Retail Sales Forecasting (Time Series – Prophet, ARIMA)**\n",
    "\n",
    "* Used historical sales data to build time series forecasting models with Facebook Prophet and ARIMA.\n",
    "* Compared model performance using RMSE and visualized predictions over different horizons.\n",
    "* Delivered actionable insights to reduce stockouts and optimize inventory.\n",
    "\n",
    "(*GitHub links or project writeups can be added here.*)\n"
   ]
  },
  {
   "cell_type": "markdown",
   "id": "eb40115f",
   "metadata": {},
   "source": [
    "#### **Customer Churn Production: Telco Customer**\n",
    "* File Name: **Customer-Churn.csv**\n",
    "* Tasks Performed:\n",
    "    * EDA\n",
    "        * Data Ingestion\n",
    "        * Perform basic data quality checks\n",
    "            - Missing Values Treatment\n",
    "        * Perform descriptive statistics\n",
    "        * Data Visualization\n",
    "            - Univariate - Single Column\n",
    "                - Categorical - countplot\n",
    "                - Numerical - histogram\n",
    "            - Bivariate - 2 Columns\n",
    "                - Cont vs Cont - scatterplot, regplot\n",
    "                - Cont vs Cat - boxplot\n",
    "                - Cat vs Cat - crosstab, heatmap\n",
    "            - Multivariate - More than 2 Columns\n",
    "                - Correlation Plot\n",
    "                - Pair Plot\n"
   ]
  },
  {
   "cell_type": "code",
   "execution_count": null,
   "id": "827187d4",
   "metadata": {},
   "outputs": [],
   "source": []
  }
 ],
 "metadata": {
  "kernelspec": {
   "display_name": "Python 3",
   "language": "python",
   "name": "python3"
  },
  "language_info": {
   "codemirror_mode": {
    "name": "ipython",
    "version": 3
   },
   "file_extension": ".py",
   "mimetype": "text/x-python",
   "name": "python",
   "nbconvert_exporter": "python",
   "pygments_lexer": "ipython3",
   "version": "3.13.6"
  }
 },
 "nbformat": 4,
 "nbformat_minor": 5
}
