{
 "cells": [
  {
   "cell_type": "markdown",
   "id": "20f1966c",
   "metadata": {},
   "source": [
    "#### **Gen AI and Agentic AI**\n"
   ]
  },
  {
   "cell_type": "code",
   "execution_count": null,
   "id": "3b0fc194",
   "metadata": {
    "vscode": {
     "languageId": "html"
    }
   },
   "outputs": [],
   "source": [
    "🔴 Advanced Level – Build Agentic AI Systems\n",
    "\n",
    " ---------------------------------------------------------------------------------------------------------------------------------------\n",
    "|  📘 **Content / Focus**          | 🌐 **Resource**            |🔗 **Link**                                                           |\n",
    "| ------------------------------- | --------------------------- | --------------------------------------------------------------------- |\n",
    "| Agentic AI Concepts             | AutoGPT GitHub Repo         | [Link](https://github.com/Torantulino/Auto-GPT)                       |\n",
    "| CrewAI (Multi-Agent Systems)    | CrewAI GitHub               | [Link](https://github.com/joaomdmoura/crewAI)                         |\n",
    "| LangGraph (Agent Orchestration) | LangGraph Docs              | [Link](https://docs.langchain.com/langgraph/)                         |\n",
    "| OpenAI Assistants API           | OpenAI Assistants Guide     | [Link](https://platform.openai.com/docs/assistants/overview)          |\n",
    "| LLM App Architectures           | LangChain + OpenAI Projects | [Link](https://docs.langchain.com/docs/use-cases/agents/)             |\n",
    "| Deploying AI Apps               | Vercel / Render Docs        | [Vercel](https://vercel.com/docs) / [Render](https://render.com/docs) |\n",
    "-----------------------------------------------------------------------------------------------------------------------------------------"
   ]
  },
  {
   "cell_type": "markdown",
   "id": "d91431d4",
   "metadata": {},
   "source": []
  }
 ],
 "metadata": {
  "language_info": {
   "name": "python"
  }
 },
 "nbformat": 4,
 "nbformat_minor": 5
}
