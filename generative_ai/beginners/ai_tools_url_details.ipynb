{
 "cells": [
  {
   "cell_type": "raw",
   "id": "3c4f14e3",
   "metadata": {
    "vscode": {
     "languageId": "raw"
    }
   },
   "source": [
    "TEXT:  \n",
    "  🌐 ChatGPT: [https://chat.openai.com] (Thru Google If required to login) (No mandatory sign-up)\n",
    "  🌐 Google Gemini: [https://gemini.google.com] (Thru Google)\n",
    "  🌐 Perplexity AI: [https://www.perplexity.ai] (No mandatory sign-up)\n",
    "  🌐 HuggingChat: \n",
    "\n",
    "IMAGE:\n",
    "  🌐 AI Image Generator:             [https://aiimagegenerator.online/?utm_source=chatgpt.com] (No mandatory sign-up)\n",
    "  🌐 Clipfly Image Gen:              [https://www.clipfly.ai/ai-image-generator/] - Signup required(No mandatory sign-up. Need to check)\n",
    "\n",
    "CODE TOOLS:\n",
    "  🌐 Code Generator:                 [https://www.codegenerator.dev/] (No mandatory sign-up)\n",
    "  🌐 GitHub Copilot:                 [https://github.com/features/copilot] (requires GitHub) (Thru Google) - Not Free\n",
    "\n",
    "PUBLISH ARTICLE DOMAIN:\n",
    "  🌐 Dev.to ->                       [https://dev.to/] (Thru Google)\n",
    "      e.g. https://dev.to/deanesh_takkallapati_924b/classroom-featuring-ai-robot-35hb (Thru Google)\n",
    "\n",
    "AGENTS:\n",
    "  🌐 LangChain Agents (Python/JS):   [https://www.langchain.com](https://www.langchain.com)\n",
    "  🌐 OpenAI Assistants API:          [https://platform.openai.com/docs/assistants](https://platform.openai.com/docs/assistants)\n",
    "  🌐 CrewAI (Multi-Agent Framework): [https://github.com/joaomdmoura/crewAI](https://github.com/joaomdmoura/crewAI)\n",
    "\n",
    "MUSIC:\n",
    "  🌐 Suno:                           [https://suno.com] (Thru Google)\n"
   ]
  },
  {
   "cell_type": "code",
   "execution_count": null,
   "id": "a7385ec9",
   "metadata": {
    "vscode": {
     "languageId": "html"
    }
   },
   "outputs": [],
   "source": [
    "AI Tool Type     | Name              | URL                                           | Mandatory Signup | Free/Paid         | Credibility Score\n",
    "-----------------|-------------------|-----------------------------------------------|------------------|-------------------|-------------------\n",
    "Text to Text     | Claude            | https://claude.ai                             | Yes              | Free              | 9.2\n",
    "Text to Text     | Gemini (Google)   | https://gemini.google.com                     | Yes              | Free              | 9.0\n",
    "Text to Text     | HuggingChat       | https://huggingface.co/chat                   | No               | Free              | 8.2\n",
    "Text to Image    | Craiyon           | https://www.craiyon.com                       | No               | Free              | 7.5\n",
    "Text to Image    | Bing Image Creator| https://www.bing.com/images/create            | Yes              | Free              | 8.7\n",
    "Text to Image    | Playground AI     | https://playgroundai.com                      | Yes              | Free (limited)    | 8.5\n",
    "Text to Video    | Pika Labs         | https://pika.art                              | Yes              | Free (limited)    | 8.6\n",
    "Text to Video    | Runway ML (Gen-2) | https://runwayml.com                          | Yes              | Free (credits)    | 8.8\n",
    "Text to Video    | Kapwing AI        | https://www.kapwing.com/ai                    | Yes              | Free (limited)    | 8.0\n",
    "Text to Music    | Suno AI           | https://www.suno.com                          | Yes              | Free (limited)    | 9.0\n",
    "Text to Music    | Boomy             | https://www.boomy.com                         | Yes              | Free (with paid)  | 8.3\n",
    "Text to Music    | Mubert            | https://mubert.com/render                     | Yes              | Free (limited)    | 8.0\n"
   ]
  },
  {
   "cell_type": "code",
   "execution_count": null,
   "id": "4eea3e78",
   "metadata": {
    "vscode": {
     "languageId": "html"
    }
   },
   "outputs": [],
   "source": [
    "Tool Type        | Name           | URL                                 | Use Cases                                               | Mandatory Signup | Free / Paid                | Credibility Score\n",
    "-----------------------------------------------------------------------------------------------------------------------------------------------------\n",
    "Generative AI    | Ideogram       | https://ideogram.ai/               | Text‑to‑image: creative visuals, logos, posters, marketing content  | Yes               | Freemium (free plan with limits) :contentReference[oaicite:0]{index=0}        | 8/10\n",
    "Generative AI    | DALL·E         | https://openai.com/dall-e           | Text‑to‑image generation; illustrations, concept art, etc.            | Yes               | Free (limited usage) + Paid upgrades :contentReference[oaicite:1]{index=1}                              | 9/10\n",
    "Generative AI    | Canva AI tools | https://canva.com                   | Graphic design: social media posts, flyers, presentations, image+text layouts  | Yes             | Free basic plan + Paid features :contentReference[oaicite:2]{index=2}                                   | 8/10\n"
   ]
  },
  {
   "cell_type": "code",
   "execution_count": null,
   "id": "457d0179",
   "metadata": {
    "vscode": {
     "languageId": "html"
    }
   },
   "outputs": [],
   "source": [
    "Tool Type       | Name                 | URL                                                            | Use Cases                                                                 | Open Source | Mandatory Signup | Free / Paid       | Credibility Score\n",
    "-----------------------------------------------------------------------------------------------------------------------------------------------------------------------------\n",
    "Generative AI   | Automatic1111 Web UI  | https://github.com/AUTOMATIC1111/stable-diffusion-webui        | Run Stable Diffusion locally, text‑to‑image generation, many community extensions and customization  | Yes         | No                | Free              | 9/10 :contentReference[oaicite:0]{index=0}\n",
    "Generative AI   | ComfyUI               | https://github.com/comfyanonymous/ComfyUI                      | Node‑based workflows for image generation with diffusion models, control with nodes, visual setup    | Yes         | No                | Free              | 8.5/10 :contentReference[oaicite:1]{index=1}\n",
    "Generative AI   | Fooocus               | https://github.com/lllyasviel/Fooocus                          | Easier setup for image generation, prompt enhancements, styled output, photographic defaults         | Yes         | No                | Free              | 8/10 :contentReference[oaicite:2]{index=2}\n",
    "Agentic AI      | AutoGPT               | https://github.com/Significant-Gravitas/AutoGPT                | Autonomous agents: break down a goal, use tools, plan, execute sub‑tasks with minimal human input    | Yes         | No                | Free (you may need access to LLM APIs) | 8/10 :contentReference[oaicite:3]{index=3}\n",
    "Agentic AI      | h2oGPT                | https://github.com/h2oai/h2ogpt                                | Open‑source LLMs fine‑tuned; can be used for chat, search, custom document question answering, etc.  | Yes         | No                | Free              | 8.5/10 :contentReference[oaicite:4]{index=4}\n",
    "Agentic AI      | LangGraph             | https://github.com/langgraph/langgraph (or similar)            | Building multi‑agent workflows, DAG‑style execution, agents communicate / tool integration, RAG etc. | Yes         | No                | Free              | 8/10 :contentReference[oaicite:5]{index=5}\n"
   ]
  },
  {
   "cell_type": "code",
   "execution_count": null,
   "id": "e09f75ef",
   "metadata": {
    "vscode": {
     "languageId": "html"
    }
   },
   "outputs": [],
   "source": []
  },
  {
   "cell_type": "markdown",
   "id": "fab8ba41",
   "metadata": {},
   "source": [
    "* **Mini project** where we build a simple LangChain or Assistant agent?\n",
    "* **Visual architecture diagram** of how an agent thinks and acts?\n",
    "* **Skill roadmap** to go from beginner to agent-builder?"
   ]
  },
  {
   "cell_type": "markdown",
   "id": "e702ddff",
   "metadata": {},
   "source": [
    "#### Vertex AI"
   ]
  },
  {
   "cell_type": "markdown",
   "id": "8caaf7fd",
   "metadata": {},
   "source": [
    "    student-02-090a2762cfff@qwiklabs.net\n",
    "    oGKDsdVcNhPe\n",
    "    qwiklabs-gcp-03-38cbe551824d\n",
    "    europe-west1"
   ]
  },
  {
   "cell_type": "markdown",
   "id": "32d3d699",
   "metadata": {},
   "source": []
  }
 ],
 "metadata": {
  "language_info": {
   "name": "python"
  }
 },
 "nbformat": 4,
 "nbformat_minor": 5
}
