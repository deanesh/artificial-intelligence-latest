{
 "cells": [
  {
   "cell_type": "code",
   "execution_count": null,
   "id": "93d90981",
   "metadata": {},
   "outputs": [
    {
     "name": "stderr",
     "output_type": "stream",
     "text": [
      "C:\\Users\\DEANESH\\AppData\\Local\\Temp\\ipykernel_14072\\3312841779.py:3: LangChainDeprecationWarning: The class `Ollama` was deprecated in LangChain 0.3.1 and will be removed in 1.0.0. An updated version of the class exists in the :class:`~langchain-ollama package and should be used instead. To use it run `pip install -U :class:`~langchain-ollama` and import as `from :class:`~langchain_ollama import OllamaLLM``.\n",
      "  llm = Ollama(model=\"mistral\")\n",
      "C:\\Users\\DEANESH\\AppData\\Local\\Temp\\ipykernel_14072\\3312841779.py:5: LangChainDeprecationWarning: The method `BaseLLM.__call__` was deprecated in langchain-core 0.1.7 and will be removed in 1.0. Use :meth:`~invoke` instead.\n",
      "  response = llm(\"Explain gravity in simple terms.\")\n"
     ]
    },
    {
     "name": "stdout",
     "output_type": "stream",
     "text": [
      " Gravity is a force that pulls objects towards each other. It's the force that makes apples fall from trees, keeps us on the ground instead of floating off into space, and causes the moon to orbit around the Earth.\n",
      "\n",
      "Think about it like this: every object has an invisible 'weight' made up of tiny particles called atoms. These atoms are constantly trying to find a more stable or balanced position. When two objects come close together, their atoms start to push against each other. This pushing creates a force we call gravity, which pulls the objects closer together.\n",
      "\n",
      "The stronger the combined weight of the objects, or the closer they are to each other, the stronger the gravitational pull will be. That's why a bigger object like Earth has a much stronger gravitational pull than a smaller object like a balloon.\n",
      "\n",
      "Now, if you take away the air and other objects (like on a spaceship), you can feel gravity pulling you towards the center of the Earth because the Earth is so much more massive. But here on Earth, with all the other things around us, we're usually pulled down by Earth's gravity, which keeps our feet on the ground!\n"
     ]
    }
   ],
   "source": [
    "from langchain_community.llms import Ollama\n",
    "\n",
    "llm = Ollama(model=\"mistral\")\n",
    "\n",
    "response = llm(\"Explain gravity in simple terms.\")\n",
    "print(response)\n"
   ]
  },
  {
   "cell_type": "code",
   "execution_count": null,
   "id": "39f92cb4",
   "metadata": {},
   "outputs": [],
   "source": []
  }
 ],
 "metadata": {
  "kernelspec": {
   "display_name": "Python 3",
   "language": "python",
   "name": "python3"
  },
  "language_info": {
   "codemirror_mode": {
    "name": "ipython",
    "version": 3
   },
   "file_extension": ".py",
   "mimetype": "text/x-python",
   "name": "python",
   "nbconvert_exporter": "python",
   "pygments_lexer": "ipython3",
   "version": "3.13.6"
  }
 },
 "nbformat": 4,
 "nbformat_minor": 5
}
