{
 "cells": [
  {
   "cell_type": "markdown",
   "id": "20f1966c",
   "metadata": {},
   "source": [
    "#### **Gen AI and Agentic AI**"
   ]
  },
  {
   "cell_type": "code",
   "execution_count": null,
   "id": "3b0fc194",
   "metadata": {
    "vscode": {
     "languageId": "html"
    }
   },
   "outputs": [],
   "source": [
    "🟡 Intermediate Level – Start Building Projects\n",
    "\n",
    "| 📘 **Content / Focus**             | 🌐 **Resource**             | 🔗 **Link**                                                                      |\n",
    "| ---------------------------------- | --------------------------- | -------------------------------------------------------------------------------- |\n",
    "| Build AI Apps (OpenAI + LangChain) | DeepLearning.AI             | [Link](https://www.deeplearning.ai/short-courses/building-systems-with-chatgpt/) |\n",
    "| LangChain Crash Course (YouTube)   | Patrick Loeber (YouTube)    | [Link](https://www.youtube.com/watch?v=7J5sM9P7g6A)                              |\n",
    "| LangChain Official Docs            | LangChain Documentation     | [Link](https://docs.langchain.com/docs/)                                         |\n",
    "| Streamlit for AI Apps              | Streamlit Docs              | [Link](https://docs.streamlit.io/)                                               |\n",
    "| AI for Business Use-Cases          | Harvard Online              | [Link](https://online.hbs.edu/courses/artificial-intelligence-business/)         |\n",
    "| AI News & Trends                   | The Rundown AI (Newsletter) | [Link](https://www.therundown.ai/)                                               |\n"
   ]
  },
  {
   "cell_type": "markdown",
   "id": "d91431d4",
   "metadata": {},
   "source": []
  }
 ],
 "metadata": {
  "language_info": {
   "name": "python"
  }
 },
 "nbformat": 4,
 "nbformat_minor": 5
}
