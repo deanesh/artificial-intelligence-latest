{
 "cells": [
  {
   "cell_type": "code",
   "execution_count": 1,
   "id": "f58f1382",
   "metadata": {},
   "outputs": [
    {
     "name": "stdout",
     "output_type": "stream",
     "text": [
      "2025-09-03 20:54:51 | 01_data_cleaning.ipynb | 🔄 Starting data cleaning process...\n",
      "2025-09-03 20:54:51 | 01_data_cleaning.ipynb | Current Working Dir: e:\\Git-Repos\\artificial-intelligence-latest\\exploratory data analysis\\pan_shop_sales\\notebooks\n",
      "2025-09-03 20:54:51 | 01_data_cleaning.ipynb | Util Functions Dir: ../../../utility functions\n",
      "2025-09-03 20:54:51 | 01_data_cleaning.ipynb | Util Functions Dir Path: e:\\Git-Repos\\artificial-intelligence-latest\\utility functions\n",
      "2025-09-03 20:54:51 | 01_data_cleaning.ipynb | Data File Path: e:\\Git-Repos\\artificial-intelligence-latest\\generic_data_files\\pan_shop_and_sales.csv\n",
      "2025-09-03 20:54:51 | data_utils.py | 🚀 Starting full data preprocessing pipeline\n",
      "2025-09-03 20:54:51 | data_utils.py | Loading data file : pan_shop_and_sales.csv - Start\n",
      "2025-09-03 20:54:51 | data_utils.py | 📥 Reading CSV: e:\\Git-Repos\\artificial-intelligence-latest\\generic_data_files\\pan_shop_and_sales.csv\n",
      "2025-09-03 20:54:51 | data_utils.py | ✅ Loaded CSV with shape: (7736, 17)\n",
      "2025-09-03 20:54:51 | data_utils.py | ⏱️ Time taken to read CSV: 0.02 seconds\n",
      "2025-09-03 20:54:51 | data_utils.py | Loading data file : pan_shop_and_sales.csv - End\n",
      "2025-09-03 20:54:51 | data_utils.py | Standardizing Columns - Start\n",
      "2025-09-03 20:54:51 | data_utils.py | 🧹 Standardizing column names\n",
      "2025-09-03 20:54:51 | data_utils.py | Standardizing Columns - End\n",
      "2025-09-03 20:54:51 | data_utils.py | Checking Duplicates - Start\n",
      "2025-09-03 20:54:51 | data_utils.py | 🔍 Found 0 completely duplicate rows.\n",
      "2025-09-03 20:54:51 | data_utils.py | Checking Duplicates - End\n",
      "2025-09-03 20:54:51 | data_utils.py | Cleaning Nulls - Start\n",
      "2025-09-03 20:54:51 | data_utils.py | ✅ No nulls found in the DataFrame. Nothing to clean.\n",
      "2025-09-03 20:54:51 | data_utils.py | Cleaning Nulls - End\n",
      "2025-09-03 20:54:51 | data_utils.py | ✅ Data preprocessing completed in 0.03 seconds\n",
      "2025-09-03 20:54:51 | data_utils.py | Saving Cleaned Data file: cleaned_pan_shop_and_sales_20250903_205451.csv  - Start\n",
      "2025-09-03 20:54:51 | data_utils.py | Saved Cleaned Data file : cleaned_pan_shop_and_sales_20250903_205451.csv - Start\n",
      "2025-09-03 20:54:51 | 01_data_cleaning.ipynb | Cleaned Data File Saved to Path: : e:\\Git-Repos\\artificial-intelligence-latest\\cleaned_data_files\\cleaned_pan_shop_and_sales_20250903_205451.csv\n",
      "2025-09-03 20:54:51 | 01_data_cleaning.ipynb |          count        mean         std   min      25%      50%       75%  \\\n",
      "profit  7736.0  202.197049  241.488633  0.37  38.8875  110.665  269.8475   \n",
      "\n",
      "            max  \n",
      "profit  1892.55  \n",
      "2025-09-03 20:54:51 | 01_data_cleaning.ipynb | 0\n",
      "2025-09-03 20:54:51 | 01_data_cleaning.ipynb | 🔄 Ending Cleaning process..\n",
      "2025-09-03 20:54:51 | 01_data_cleaning.ipynb | ✅ Total time taken: 0.10 seconds\n"
     ]
    }
   ],
   "source": [
    "import sys\n",
    "import os\n",
    "import pandas as pd\n",
    "import datetime\n",
    "import time\n",
    "import inspect\n",
    "import json\n",
    "import ipykernel\n",
    "import requests\n",
    "\n",
    "# Logging function with timestamp\n",
    "from datetime import datetime as dt\n",
    "\n",
    "NOTEBOOK_NAME = \"01_data_cleaning.ipynb\"\n",
    "\n",
    "# Start timing\n",
    "start_time = time.time()\n",
    "\n",
    "\n",
    "# Add utility functions folder to path\n",
    "curr_dir = os.getcwd()\n",
    "util_functions_dir = \"../../../utility functions\"\n",
    "data_file = \"../../../generic_data_files/pan_shop_and_sales.csv\"\n",
    "cleaned_data_dir = \"../../../cleaned_data_files/\"\n",
    "\n",
    "\n",
    "# Common Utilities (data_utils) Path\n",
    "UTILITY_FUNCTIONS_DIR_PATH = os.path.abspath(os.path.join(curr_dir, util_functions_dir))\n",
    "if UTILITY_FUNCTIONS_DIR_PATH not in sys.path:\n",
    "    sys.path.append(UTILITY_FUNCTIONS_DIR_PATH)\n",
    "\n",
    "# Data (csv) Path\n",
    "DATA_FILE_PATH = os.path.abspath(os.path.join(curr_dir, data_file))\n",
    "\n",
    "from data_utils import preprocess_data, save_cleaned_data  # type: ignore\n",
    "from log_utils import log, set_log_source  # type: ignore\n",
    "\n",
    "# Set the notebook name globally once\n",
    "set_log_source(\"01_data_cleaning.ipynb\")\n",
    "\n",
    "log(\"🔄 Starting data cleaning process...\")\n",
    "\n",
    "log(f\"Current Working Dir: {curr_dir}\")\n",
    "log(f\"Util Functions Dir: {util_functions_dir}\")\n",
    "\n",
    "log(f\"Util Functions Dir Path: {UTILITY_FUNCTIONS_DIR_PATH}\")\n",
    "log(f\"Data File Path: {DATA_FILE_PATH}\")\n",
    "\n",
    "# Pre Process Data (Load, Standardize cols, Duplicates, Null check and handling null values)\n",
    "df_cleaned = preprocess_data(DATA_FILE_PATH)\n",
    "\n",
    "CLEANED_DATA_DIR = os.path.abspath(os.path.join(curr_dir, cleaned_data_dir))\n",
    "os.makedirs(CLEANED_DATA_DIR, exist_ok=True)\n",
    "\n",
    "# Append Timestamp for File to preserve uniqueness and not overriding old data\n",
    "timestamp = datetime.datetime.now().strftime(\"%Y%m%d_%H%M%S\")\n",
    "cleaned_file_name = (\n",
    "    f\"cleaned_{os.path.splitext(os.path.basename(data_file))[0]}_{timestamp}.csv\"\n",
    ")\n",
    "\n",
    "# Save Cleaned Data\n",
    "CLEANED_DATA_PATH = os.path.join(CLEANED_DATA_DIR, cleaned_file_name)\n",
    "save_cleaned_data(df_cleaned, CLEANED_DATA_PATH)\n",
    "log(f\"Cleaned Data File Saved to Path: : {CLEANED_DATA_PATH}\")\n",
    "\n",
    "# Test Cleaned Data\n",
    "log(df_cleaned.describe().T.sample(1))\n",
    "log(df_cleaned.isnull().sum().sum())\n",
    "\n",
    "# End timing\n",
    "end_time = time.time()\n",
    "log(\"🔄 Ending Cleaning process..\")\n",
    "log(f\"✅ Total time taken: {end_time - start_time:.2f} seconds\")"
   ]
  },
  {
   "cell_type": "code",
   "execution_count": 2,
   "id": "31c6048b",
   "metadata": {},
   "outputs": [
    {
     "name": "stdout",
     "output_type": "stream",
     "text": [
      "e:\\Git-Repos\\artificial-intelligence-latest\\.venv\\Scripts\\python.exe\n"
     ]
    }
   ],
   "source": [
    "import sys\n",
    "\n",
    "print(sys.executable)"
   ]
  }
 ],
 "metadata": {
  "kernelspec": {
   "display_name": "artificial-intelligence_1.0",
   "language": "python",
   "name": "python3"
  },
  "language_info": {
   "codemirror_mode": {
    "name": "ipython",
    "version": 3
   },
   "file_extension": ".py",
   "mimetype": "text/x-python",
   "name": "python",
   "nbconvert_exporter": "python",
   "pygments_lexer": "ipython3",
   "version": "3.13.6"
  }
 },
 "nbformat": 4,
 "nbformat_minor": 5
}
