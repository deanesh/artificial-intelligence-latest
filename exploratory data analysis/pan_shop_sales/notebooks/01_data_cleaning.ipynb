{
 "cells": [
  {
   "cell_type": "code",
   "execution_count": 13,
   "id": "f58f1382",
   "metadata": {},
   "outputs": [
    {
     "name": "stdout",
     "output_type": "stream",
     "text": [
      "2025-09-03 18:03:47 | 01_data_cleaning.ipynb | Current Working Dir: e:\\Git-Repos\\artificial-intelligence-latest\\exploratory data analysis\\pan_shop_sales\\notebooks\n",
      "2025-09-03 18:03:47 | 01_data_cleaning.ipynb | Util Functions Dir: ../../../utility functions\n",
      "2025-09-03 18:03:47 | 01_data_cleaning.ipynb | UTIL_PATH: e:\\Git-Repos\\artificial-intelligence-latest\\utility functions\n",
      "2025-09-03 18:03:47 | 01_data_cleaning.ipynb | DATA_PATH: e:\\Git-Repos\\artificial-intelligence-latest\\generic_data_files\\pan_shop_and_sales.csv\n",
      "2025-09-03 18:03:47 | data_utils.py | 🚀 Starting full data preprocessing pipeline\n",
      "2025-09-03 18:03:47 | data_utils.py | Loading data file : pan_shop_and_sales.csv - Start\n",
      "2025-09-03 18:03:47 | data_utils.py | 📥 Reading CSV: e:\\Git-Repos\\artificial-intelligence-latest\\generic_data_files\\pan_shop_and_sales.csv\n",
      "2025-09-03 18:03:47 | data_utils.py | ✅ Loaded CSV with shape: (7736, 17)\n",
      "2025-09-03 18:03:47 | data_utils.py | ⏱️ Time taken to read CSV: 0.05 seconds\n",
      "2025-09-03 18:03:47 | data_utils.py | Loading data file : pan_shop_and_sales.csv - End\n",
      "2025-09-03 18:03:47 | data_utils.py | Standardizing Columns - Start\n",
      "2025-09-03 18:03:47 | data_utils.py | 🧹 Standardizing column names\n",
      "2025-09-03 18:03:47 | data_utils.py | Standardizing Columns - End\n",
      "2025-09-03 18:03:47 | data_utils.py | Checking Duplicates - Start\n",
      "2025-09-03 18:03:47 | data_utils.py | 🔍 Found 0 completely duplicate rows.\n",
      "2025-09-03 18:03:47 | data_utils.py | Checking Duplicates - End\n",
      "2025-09-03 18:03:47 | data_utils.py | Cleaning Nulls - Start\n",
      "2025-09-03 18:03:47 | data_utils.py | ✅ No nulls found in the DataFrame. Nothing to clean.\n",
      "2025-09-03 18:03:47 | data_utils.py | Cleaning Nulls - End\n",
      "2025-09-03 18:03:47 | data_utils.py | ✅ Data preprocessing completed in 0.19 seconds\n",
      "2025-09-03 18:03:47 | data_utils.py | Saving Cleaned Data file: cleaned_pan_shop_and_sales_20250903_180347.csv  - Start\n",
      "2025-09-03 18:03:47 | data_utils.py | Saved Cleaned Data file : cleaned_pan_shop_and_sales_20250903_180347.csv - Start\n",
      "2025-09-03 18:03:47 | 01_data_cleaning.ipynb | Cleaned Data File Saved to Path: : e:\\Git-Repos\\artificial-intelligence-latest\\cleaned_data_files\\cleaned_pan_shop_and_sales_20250903_180347.csv\n",
      "2025-09-03 18:03:47 | 01_data_cleaning.ipynb |        count       mean        std  min  25%   50%   75%    max\n",
      "sold  7736.0  26.840486  22.432002  1.0  8.0  20.0  40.0  100.0\n",
      "2025-09-03 18:03:47 | 01_data_cleaning.ipynb | 0\n"
     ]
    }
   ],
   "source": [
    "import sys\n",
    "import os\n",
    "import pandas as pd\n",
    "import datetime\n",
    "import time\n",
    "import inspect\n",
    "import json\n",
    "import os\n",
    "import ipykernel\n",
    "import requests\n",
    "\n",
    "# Logging function with timestamp\n",
    "from datetime import datetime as dt\n",
    "\n",
    "\n",
    "def get_notebook_name():\n",
    "    # Hardcoded value\n",
    "    return \"01_data_cleaning.ipynb\"\n",
    "\n",
    "\n",
    "def log(msg):\n",
    "    from datetime import datetime\n",
    "    import inspect\n",
    "    import os\n",
    "\n",
    "    caller = get_notebook_name()\n",
    "\n",
    "    timestamp = datetime.now().strftime(\"%Y-%m-%d %H:%M:%S\")\n",
    "    print(f\"{timestamp} | {caller} | {msg}\")\n",
    "\n",
    "\n",
    "# Start timing\n",
    "start_time = time.time()\n",
    "\n",
    "\n",
    "# Add utility functions folder to path\n",
    "curr_dir = os.getcwd()\n",
    "util_functions_dir = \"../../../utility functions\"\n",
    "data_file = \"../../../generic_data_files/pan_shop_and_sales.csv\"\n",
    "cleaned_data_dir = \"../../../cleaned_data_files/\"\n",
    "\n",
    "log(f\"Current Working Dir: {curr_dir}\")\n",
    "log(f\"Util Functions Dir: {util_functions_dir}\")\n",
    "\n",
    "# Common Utilities (data_utils) Path\n",
    "UTIL_PATH = os.path.abspath(os.path.join(curr_dir, util_functions_dir))\n",
    "if UTIL_PATH not in sys.path:\n",
    "    sys.path.append(UTIL_PATH)\n",
    "\n",
    "# Data (csv) Path\n",
    "DATA_PATH = os.path.abspath(os.path.join(curr_dir, data_file))\n",
    "\n",
    "from data_utils import preprocess_data, save_cleaned_data\n",
    "\n",
    "log(f\"UTIL_PATH: {UTIL_PATH}\")\n",
    "log(f\"DATA_PATH: {DATA_PATH}\")\n",
    "\n",
    "# Pre Process Data (Load, Standardize cols, Duplicates, Null check and handling null values)\n",
    "df_cleaned = preprocess_data(DATA_PATH)\n",
    "\n",
    "CLEANED_DATA_DIR = os.path.abspath(os.path.join(curr_dir, cleaned_data_dir))\n",
    "os.makedirs(CLEANED_DATA_DIR, exist_ok=True)\n",
    "\n",
    "# Append Timestamp for File to preserve uniqueness and not overriding old data\n",
    "timestamp = datetime.datetime.now().strftime(\"%Y%m%d_%H%M%S\")\n",
    "cleaned_file_name = (\n",
    "    f\"cleaned_{os.path.splitext(os.path.basename(data_file))[0]}_{timestamp}.csv\"\n",
    ")\n",
    "\n",
    "CLEANED_DATA_PATH = os.path.join(CLEANED_DATA_DIR, cleaned_file_name)\n",
    "save_cleaned_data(df_cleaned, CLEANED_DATA_PATH)\n",
    "log(f\"Cleaned Data File Saved to Path: : {CLEANED_DATA_PATH}\")\n",
    "\n",
    "log(df_cleaned.describe().T.sample(1))\n",
    "log(df_cleaned.isnull().sum().sum())"
   ]
  },
  {
   "cell_type": "code",
   "execution_count": 2,
   "id": "31c6048b",
   "metadata": {},
   "outputs": [
    {
     "name": "stdout",
     "output_type": "stream",
     "text": [
      "e:\\Git-Repos\\artificial-intelligence-latest\\.venv\\Scripts\\python.exe\n"
     ]
    }
   ],
   "source": [
    "import sys\n",
    "\n",
    "print(sys.executable)"
   ]
  },
  {
   "cell_type": "code",
   "execution_count": null,
   "id": "8800e6cd",
   "metadata": {},
   "outputs": [],
   "source": []
  }
 ],
 "metadata": {
  "kernelspec": {
   "display_name": "artificial-intelligence_1.0",
   "language": "python",
   "name": "python3"
  },
  "language_info": {
   "codemirror_mode": {
    "name": "ipython",
    "version": 3
   },
   "file_extension": ".py",
   "mimetype": "text/x-python",
   "name": "python",
   "nbconvert_exporter": "python",
   "pygments_lexer": "ipython3",
   "version": "3.13.6"
  }
 },
 "nbformat": 4,
 "nbformat_minor": 5
}
