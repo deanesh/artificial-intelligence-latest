{
 "cells": [
  {
   "cell_type": "markdown",
   "id": "07baa71d",
   "metadata": {},
   "source": [
    "#### **Recurrent Neural Network (RNN) - Short Summary**\n",
    "| **Aspect**      | **Description**                                                        |\n",
    "| --------------- | ---------------------------------------------------------------------- |\n",
    "| **Definition**  | A type of neural network designed for sequential data                  |\n",
    "| **Core Idea**   | Maintains memory by passing information from one time step to the next |\n",
    "| **Key Feature** | Loop connections to retain past input context                          |\n",
    "| **Common Uses** | Text generation, speech recognition, time series prediction            |\n",
    "| **Variants**    | LSTM (Long Short-Term Memory), GRU (Gated Recurrent Unit)              |\n",
    "| **Challenges**  | Struggles with long sequences due to vanishing gradients               |\n"
   ]
  }
 ],
 "metadata": {
  "language_info": {
   "name": "python"
  }
 },
 "nbformat": 4,
 "nbformat_minor": 5
}
