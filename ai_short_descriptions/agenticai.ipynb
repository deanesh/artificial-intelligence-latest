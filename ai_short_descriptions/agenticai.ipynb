{
 "cells": [
  {
   "cell_type": "markdown",
   "id": "9d303772",
   "metadata": {},
   "source": [
    "#### Agentic AI (Short Summary)\n",
    "| **Aspect**          | **Description**                                                 |\n",
    "| ------------------- | --------------------------------------------------------------- |\n",
    "| **Definition**      | AI that acts autonomously as an agent to achieve goals          |\n",
    "| **Task Handling**   | Breaks complex goals into smaller tasks and plans step-by-step  |\n",
    "| **Decision Making** | Chooses actions based on context and objectives                 |\n",
    "| **Tools Usage**     | Uses external tools, APIs, or other AIs to complete tasks       |\n",
    "| **Adaptability**    | Learns and adjusts behavior based on feedback or changing data  |\n",
    "| **Examples**        | Autonomous assistants, research agents, task automation systems |\n"
   ]
  },
  {
   "cell_type": "markdown",
   "id": "719d5318",
   "metadata": {},
   "source": [
    "##### **Agentic AI (in short):**\n",
    "**Agentic AI** refers to AI systems designed to act as **autonomous agents** that can:\n",
    "\n",
    "* **Perceive** their environment (input or context)\n",
    "* **Plan** actions or strategies\n",
    "* **Act** toward goals without constant human guidance\n",
    "* **Adapt** based on feedback or new information\n",
    "    * **Transformer** = brain (language understanding)\n",
    "    *  **Agentic AI** = brain + planner + decision-maker\n",
    "\n",
    "\n",
    "##### Key Traits:\n",
    "\n",
    "* **Goal-directed:** Operates with a specific objective or mission.\n",
    "* **Autonomous:** Can make decisions and take actions on its own.\n",
    "* **Interactive:** May collaborate or negotiate with users or other agents.\n",
    "* **Iterative reasoning:** Thinks in steps, often using tools or memory.\n"
   ]
  }
 ],
 "metadata": {
  "language_info": {
   "name": "python"
  }
 },
 "nbformat": 4,
 "nbformat_minor": 5
}
