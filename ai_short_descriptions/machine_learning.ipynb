{
 "cells": [
  {
   "cell_type": "markdown",
   "id": "ae60b63b",
   "metadata": {},
   "source": [
    "#### **Machine Learning (ML) - Short Summary**\n",
    "| **Aspect**       | **Description**                                                               |\n",
    "| ---------------- | ----------------------------------------------------------------------------- |\n",
    "| **Definition**   | A subset of AI where systems learn from data to make predictions or decisions |\n",
    "| **Types**        | Supervised, Unsupervised, Reinforcement Learning                              |\n",
    "| **Process**      | Data Collection → Training → Validation → Prediction                          |\n",
    "| **Algorithms**   | Decision Trees, Neural Networks, SVM, K-Means                                 |\n",
    "| **Applications** | Spam detection, recommendation systems, image recognition                     |\n",
    "| **Challenges**   | Overfitting, underfitting, data quality, model interpretability               |\n"
   ]
  }
 ],
 "metadata": {
  "language_info": {
   "name": "python"
  }
 },
 "nbformat": 4,
 "nbformat_minor": 5
}
