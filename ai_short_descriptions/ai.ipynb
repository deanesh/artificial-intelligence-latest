{
 "cells": [
  {
   "cell_type": "markdown",
   "id": "8fc9cdc9",
   "metadata": {},
   "source": [
    "#### **Artificial Intelligence (AI) - Short Summary**\n",
    "| **Aspect**       | **Description**                                                      |\n",
    "| ---------------- | -------------------------------------------------------------------- |\n",
    "| **Definition**   | Simulation of human intelligence by machines                         |\n",
    "| **Types**        | Narrow AI (specialized tasks), General AI (human-level intelligence) |\n",
    "| **Techniques**   | Machine Learning, Deep Learning, Rule-Based Systems                  |\n",
    "| **Applications** | Speech recognition, image processing, autonomous vehicles, etc.      |\n",
    "| **Goals**        | Automate tasks, improve decision-making, enable problem-solving      |\n",
    "| **Challenges**   | Data quality, ethics, bias, explainability                           |\n"
   ]
  }
 ],
 "metadata": {
  "language_info": {
   "name": "python"
  }
 },
 "nbformat": 4,
 "nbformat_minor": 5
}
