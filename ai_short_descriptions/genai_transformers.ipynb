{
 "cells": [
  {
   "cell_type": "markdown",
   "id": "3624a018",
   "metadata": {
    "vscode": {
     "languageId": "html"
    }
   },
   "source": [
    "##### **Generative AI: Layers & Working (Table Summary)**\n",
    "| **Layer**             | **Purpose**                                                                           |\n",
    "| --------------------- | ------------------------------------------------------------------------------------- |\n",
    "| **Input Layer**       | Takes raw text and converts it into tokens                                            |\n",
    "| **Embedding Layer**   | Converts tokens into dense vectors that capture meaning                               |\n",
    "| **Transformer Block** | Uses self-attention to understand context and feed-forward networks to process tokens |\n",
    "| **Output Layer**      | Predicts and generates the next token in the sequence                                 |\n",
    "##### **Transformer Architecture (in short):**\n",
    "| **Component**            | **Function / Description**                                    |\n",
    "| ------------------------ | ------------------------------------------------------------- |\n",
    "| **Input Embedding**      | Converts input tokens into dense vectors                      |\n",
    "| **Positional Encoding**  | Adds sequence order information to embeddings                 |\n",
    "| **Self-Attention**       | Allows each token to focus on relevant tokens in the sequence |\n",
    "| **Layer Norm**           | Normalizes outputs for stable training                        |\n",
    "| **Feed-Forward Network** | Applies non-linear transformation to each token independently |\n",
    "| **Residual Connections** | Helps preserve information and improve gradient flow          |\n",
    "| **Stacked Layers**       | Multiple identical blocks stacked to deepen understanding     |\n",
    "| **Output Layer**         | Produces final predictions (e.g., next token probabilities)   |\n"
   ]
  },
  {
   "cell_type": "markdown",
   "id": "9017cd3b",
   "metadata": {},
   "source": []
  }
 ],
 "metadata": {
  "kernelspec": {
   "display_name": "Python 3",
   "language": "python",
   "name": "python3"
  },
  "language_info": {
   "codemirror_mode": {
    "name": "ipython",
    "version": 3
   },
   "file_extension": ".py",
   "mimetype": "text/x-python",
   "name": "python",
   "nbconvert_exporter": "python",
   "pygments_lexer": "ipython3",
   "version": "3.13.6"
  }
 },
 "nbformat": 4,
 "nbformat_minor": 5
}
