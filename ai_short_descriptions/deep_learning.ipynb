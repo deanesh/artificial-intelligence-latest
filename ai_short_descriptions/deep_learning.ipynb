{
 "cells": [
  {
   "cell_type": "markdown",
   "id": "e00ddb31",
   "metadata": {},
   "source": [
    "#### **Deep Learning - Short Summary**\n",
    "| **Aspect**         | **Description**                                                         |\n",
    "| ------------------ | ----------------------------------------------------------------------- |\n",
    "| **Definition**     | A subset of Machine Learning using multi-layered neural networks        |\n",
    "| **Core Idea**      | Learns complex patterns from large datasets using layers of computation |\n",
    "| **Common Models**  | CNNs (images), RNNs (sequences), Transformers (language)                |\n",
    "| **Training Needs** | Requires large data and high computing power (e.g., GPUs)               |\n",
    "| **Applications**   | Image recognition, NLP, speech synthesis, autonomous vehicles           |\n",
    "| **Challenges**     | High resource use, interpretability, overfitting, data hunger           |\n"
   ]
  },
  {
   "cell_type": "markdown",
   "id": "ac2e6529",
   "metadata": {},
   "source": []
  }
 ],
 "metadata": {
  "language_info": {
   "name": "python"
  }
 },
 "nbformat": 4,
 "nbformat_minor": 5
}
