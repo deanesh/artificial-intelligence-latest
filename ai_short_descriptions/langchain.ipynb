{
 "cells": [
  {
   "cell_type": "markdown",
   "id": "638ae871",
   "metadata": {},
   "source": [
    "##### **LangChain APIs (Short Summary)**\n",
    "| **API / Module**     | **Function / Description**                                                  |\n",
    "| -------------------- | --------------------------------------------------------------------------- |\n",
    "| **LLMs**             | Connects to language models (e.g., OpenAI, Cohere, HuggingFace)             |\n",
    "| **Prompts**          | Builds and manages dynamic prompts                                          |\n",
    "| **Chains**           | Sequences multiple calls (LLMs, tools, logic) into a single workflow        |\n",
    "| **Agents**           | Enables decision-making AIs that use tools and select actions autonomously  |\n",
    "| **Tools**            | External functions (e.g., calculator, web search, API calls) used by agents |\n",
    "| **Memory**           | Stores and retrieves previous interactions to maintain context              |\n",
    "| **Retrievers**       | Connects to vector databases to fetch relevant documents (RAG)              |\n",
    "| **Document Loaders** | Loads and preprocesses data from files, URLs, PDFs, etc.                    |\n",
    "| **Output Parsers**   | Formats and extracts structured output from model responses                 |\n"
   ]
  }
 ],
 "metadata": {
  "language_info": {
   "name": "python"
  }
 },
 "nbformat": 4,
 "nbformat_minor": 5
}
